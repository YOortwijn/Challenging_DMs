{
 "cells": [
  {
   "cell_type": "markdown",
   "metadata": {},
   "source": [
    "# Load & Prep"
   ]
  },
  {
   "cell_type": "code",
   "execution_count": 1,
   "metadata": {},
   "outputs": [
    {
     "name": "stderr",
     "output_type": "stream",
     "text": [
      "/opt/anaconda3/lib/python3.8/site-packages/smart_open/smart_open_lib.py:252: UserWarning: This function is deprecated, use smart_open.open instead. See the migration notes for details: https://github.com/RaRe-Technologies/smart_open/blob/master/README.rst#migrating-to-the-new-open-function\n",
      "  warnings.warn(\n"
     ]
    }
   ],
   "source": [
    "import os\n",
    "import sys\n",
    "sys.path.insert(0, '../src/') \n",
    "import evaluate\n",
    "import nltk\n",
    "\n",
    "embeddings_path = \"../data/n2v_rand_a0.1_n15_s10000_w5_l150_sd1_wd1.txt\"\n",
    "embeddings = evaluate.load_embeddings(embeddings_path)\n",
    "\n",
    "termlist_path = \"../data/quine_terms.txt\"\n",
    "termlist = []\n",
    "\n",
    "with open(termlist_path, \"r\") as f:\n",
    "    for line in f:\n",
    "        termlist.extend(line.split())\n",
    "        \n",
    "f.close()"
   ]
  },
  {
   "cell_type": "code",
   "execution_count": 2,
   "metadata": {},
   "outputs": [],
   "source": [
    "clusters_path = \"../data/terms.csv\"\n",
    "clusters, concepts = evaluate.load_clusters(clusters_path)\n",
    "\n",
    "\n",
    "cluster_A = ['abstract_singular_term', 'abstract_term', 'adjective', 'article', 'definite_article', 'indefinite_article', 'mass_term', 'demonstrative', 'description', 'general_term', 'singular_term', 'definite_singular_term', 'indefinite_singular_term', 'eternal_sentence', 'indicator_word', 'name', 'noun', 'relative_term', 'substantive', 'observation_sentence', 'occasion_sentence', 'open_sentence', 'pronoun', 'relative_clause', 'relative_pronoun', 'one-word_sentence', 'word', 'verb']\n",
    "cluster_B = ['abstract_object', 'class', 'concrete_object', 'physical_object', 'ideal_object', 'geometrical_object', 'material', 'object', 'ordinary_enduring_middle-sized_physical_object', 'particle', 'particular', 'physical_thing', 'scattered_object']\n",
    "cluster_C = ['context', 'modulus', 'operant_behavior', 'phoneme', 'stimulus', 'stimulation']\n",
    "cluster_D = ['conceptual_scheme', 'prelinguistic_quality_space']\n",
    "cluster_E = ['canonical_notation', 'paraphrase', 'concatenation', 'concretion', 'conditional', 'conjunction', 'connective', 'construction', 'contradiction', 'copula', 'form', 'function', 'quantification', 'quantifier', 'quotational', 'predication', 'plural', 'regimentation', 'elimination', 'explication', 'linguistic_form', 'logic', 'syntax', 'variables']"
   ]
  },
  {
   "cell_type": "markdown",
   "metadata": {},
   "source": [
    "# K-Means Clustering "
   ]
  },
  {
   "cell_type": "code",
   "execution_count": 3,
   "metadata": {},
   "outputs": [],
   "source": [
    "from sklearn import metrics\n",
    "from sklearn.cluster import KMeans\n",
    "from sklearn.decomposition import PCA\n",
    "from gensim.models import KeyedVectors\n",
    "import numpy as np"
   ]
  },
  {
   "cell_type": "code",
   "execution_count": 4,
   "metadata": {},
   "outputs": [
    {
     "name": "stdout",
     "output_type": "stream",
     "text": [
      "['abstract_singular_term', 'abstract_term', 'adjective', 'article', 'definite_article', 'indefinite_article', 'mass_term', 'demonstrative', 'description', 'general_term', 'singular_term', 'definite_singular_term', 'indefinite_singular_term', 'eternal_sentence', 'indicator_word', 'name', 'noun', 'relative_term', 'substantive', 'observation_sentence', 'occasion_sentence', 'open_sentence', 'pronoun', 'relative_clause', 'relative_pronoun', 'one-word_sentence', 'word', 'verb', 'abstract_object', 'class', 'concrete_object', 'physical_object', 'ideal_object', 'geometrical_object', 'material', 'object', 'ordinary_enduring_middle-sized_physical_object', 'particle', 'particular', 'physical_thing', 'scattered_object', 'context', 'modulus', 'operant_behavior', 'phoneme', 'stimulus', 'stimulation', 'conceptual_scheme', 'prelinguistic_quality_space', 'canonical_notation', 'paraphrase', 'concatenation', 'concretion', 'conditional', 'conjunction', 'connective', 'construction', 'contradiction', 'copula', 'form', 'function', 'quantification', 'quantifier', 'quotational', 'predication', 'plural', 'regimentation', 'elimination', 'explication', 'linguistic_form', 'logic', 'syntax', 'variables']\n",
      "['language', 'language', 'language', 'language', 'language', 'language', 'language', 'language', 'language', 'language', 'language', 'language', 'language', 'language', 'language', 'language', 'language', 'language', 'language', 'language', 'language', 'language', 'language', 'language', 'language', 'language', 'language', 'language', 'ontology', 'ontology', 'ontology', 'ontology', 'ontology', 'ontology', 'ontology', 'ontology', 'ontology', 'ontology', 'ontology', 'ontology', 'ontology', 'reality', 'reality', 'reality', 'reality', 'reality', 'reality', 'mind', 'mind', 'metalinguistic', 'metalinguistic', 'metalinguistic', 'metalinguistic', 'metalinguistic', 'metalinguistic', 'metalinguistic', 'metalinguistic', 'metalinguistic', 'metalinguistic', 'metalinguistic', 'metalinguistic', 'metalinguistic', 'metalinguistic', 'metalinguistic', 'metalinguistic', 'metalinguistic', 'metalinguistic', 'metalinguistic', 'metalinguistic', 'metalinguistic', 'metalinguistic', 'metalinguistic', 'metalinguistic']\n",
      "defaultdict(<class 'set'>, {'language': {'article', 'description', 'substantive', 'observation_sentence', 'indicator_word', 'indefinite_singular_term', 'relative_term', 'word', 'name', 'one-word_sentence', 'singular_term', 'open_sentence', 'general_term', 'occasion_sentence', 'relative_pronoun', 'demonstrative', 'verb', 'eternal_sentence', 'pronoun', 'relative_clause', 'indefinite_article', 'definite_article', 'abstract_term', 'mass_term', 'definite_singular_term', 'noun', 'abstract_singular_term', 'adjective'}, 'ontology': {'ideal_object', 'physical_thing', 'object', 'scattered_object', 'abstract_object', 'particle', 'particular', 'class', 'geometrical_object', 'concrete_object', 'ordinary_enduring_middle-sized_physical_object', 'material', 'physical_object'}, 'reality': {'phoneme', 'modulus', 'stimulation', 'stimulus', 'context', 'operant_behavior'}, 'mind': {'prelinguistic_quality_space', 'conceptual_scheme'}, 'metalinguistic': {'canonical_notation', 'regimentation', 'linguistic_form', 'form', 'copula', 'explication', 'logic', 'contradiction', 'quotational', 'quantifier', 'connective', 'conditional', 'variables', 'paraphrase', 'construction', 'conjunction', 'quantification', 'concatenation', 'function', 'concretion', 'predication', 'plural', 'elimination', 'syntax'}})\n"
     ]
    }
   ],
   "source": [
    "from collections import defaultdict\n",
    "\n",
    "input_words = []\n",
    "gold_labels = []\n",
    "\n",
    "def map_words(words, label, word_label_dict):\n",
    "    for word in words:\n",
    "        word_label_dict[word] = label\n",
    "\n",
    "word_label_dict = dict()\n",
    "map_words(cluster_A, 'language', word_label_dict)\n",
    "map_words(cluster_B, 'ontology', word_label_dict)\n",
    "map_words(cluster_C, 'reality', word_label_dict)\n",
    "map_words(cluster_D, 'mind', word_label_dict)\n",
    "map_words(cluster_E, 'metalinguistic', word_label_dict)\n",
    "\n",
    "for label, words in word_label_dict.items(): \n",
    "    input_words.append(label)\n",
    "    gold_labels.append(words)\n",
    "    \n",
    "\n",
    "gold_dict = defaultdict(set)\n",
    "\n",
    "for word, label in zip(input_words, gold_labels):\n",
    "    gold_dict[label].add(word)\n",
    "    \n",
    "#for label, words in word_label_dict.items():\n",
    "#    print(label, words)\n",
    "print(input_words)\n",
    "print(gold_labels)\n",
    "print(gold_dict)"
   ]
  },
  {
   "cell_type": "code",
   "execution_count": 5,
   "metadata": {},
   "outputs": [],
   "source": [
    "def get_all_vectors(word_label_dict, model):\n",
    "    \n",
    "    vecs = []\n",
    "    words_in_vocab = []\n",
    "    \n",
    "    for word in word_label_dict.keys():\n",
    "        if word in model.vocab:\n",
    "            vec = model[word]\n",
    "            vecs.append(vec)\n",
    "            words_in_vocab.append(word)\n",
    "        else:\n",
    "            print(word, 'oov')\n",
    "    \n",
    "    return np.array(vecs), words_in_vocab\n",
    "\n",
    "\n",
    "vecs, words_in_vocab = get_all_vectors(word_label_dict, embeddings)"
   ]
  },
  {
   "cell_type": "code",
   "execution_count": 6,
   "metadata": {},
   "outputs": [
    {
     "name": "stdout",
     "output_type": "stream",
     "text": [
      "[3 1 4 3 1 1 1 4 4 4 4 1 3 3 1 0 4 3 3 3 3 3 4 3 3 1 2 4 3 0 3 3 1 1 0 2 1\n",
      " 3 0 1 1 3 1 1 3 3 3 3 1 3 3 3 3 0 0 3 0 3 4 2 2 0 0 1 3 4 3 3 3 1 2 3 2]\n"
     ]
    }
   ],
   "source": [
    "y_pred = KMeans(n_clusters=5, init='random').fit_predict(vecs)\n",
    "print(y_pred)"
   ]
  },
  {
   "cell_type": "code",
   "execution_count": 7,
   "metadata": {
    "scrolled": true
   },
   "outputs": [
    {
     "name": "stdout",
     "output_type": "stream",
     "text": [
      "3 ['abstract_singular_term', 'article', 'indefinite_singular_term', 'eternal_sentence', 'relative_term', 'substantive', 'observation_sentence', 'occasion_sentence', 'open_sentence', 'relative_clause', 'relative_pronoun', 'abstract_object', 'concrete_object', 'physical_object', 'particle', 'context', 'phoneme', 'stimulus', 'stimulation', 'conceptual_scheme', 'canonical_notation', 'paraphrase', 'concatenation', 'concretion', 'connective', 'contradiction', 'predication', 'regimentation', 'elimination', 'explication', 'syntax']\n",
      "1 ['abstract_term', 'definite_article', 'indefinite_article', 'mass_term', 'definite_singular_term', 'indicator_word', 'one-word_sentence', 'ideal_object', 'geometrical_object', 'ordinary_enduring_middle-sized_physical_object', 'physical_thing', 'scattered_object', 'modulus', 'operant_behavior', 'prelinguistic_quality_space', 'quotational', 'linguistic_form']\n",
      "4 ['adjective', 'demonstrative', 'description', 'general_term', 'singular_term', 'noun', 'pronoun', 'verb', 'copula', 'plural']\n",
      "0 ['name', 'class', 'material', 'particular', 'conditional', 'conjunction', 'construction', 'quantification', 'quantifier']\n",
      "2 ['word', 'object', 'form', 'function', 'logic', 'variables']\n",
      "[3, 1, 4, 3, 1, 1, 1, 4, 4, 4, 4, 1, 3, 3, 1, 0, 4, 3, 3, 3, 3, 3, 4, 3, 3, 1, 2, 4, 3, 0, 3, 3, 1, 1, 0, 2, 1, 3, 0, 1, 1, 3, 1, 1, 3, 3, 3, 3, 1, 3, 3, 3, 3, 0, 0, 3, 0, 3, 4, 2, 2, 0, 0, 1, 3, 4, 3, 3, 3, 1, 2, 3, 2]\n"
     ]
    }
   ],
   "source": [
    "clustering_output = []\n",
    "predicted_clusters = defaultdict(list)\n",
    "for word, pred_label in zip(words_in_vocab, y_pred):\n",
    "    predicted_clusters[pred_label].append(word)\n",
    "    clustering_output.append(pred_label)\n",
    "    \n",
    "for label, words in predicted_clusters.items():\n",
    "    print(label, words)\n",
    "    \n",
    "print(clustering_output)"
   ]
  },
  {
   "cell_type": "code",
   "execution_count": 8,
   "metadata": {},
   "outputs": [
    {
     "name": "stdout",
     "output_type": "stream",
     "text": [
      "defaultdict(<class 'set'>, {3: {'canonical_notation', 'regimentation', 'abstract_object', 'article', 'explication', 'substantive', 'observation_sentence', 'contradiction', 'indefinite_singular_term', 'relative_term', 'connective', 'conceptual_scheme', 'particle', 'syntax', 'open_sentence', 'stimulus', 'occasion_sentence', 'paraphrase', 'relative_pronoun', 'phoneme', 'eternal_sentence', 'relative_clause', 'concatenation', 'context', 'concretion', 'predication', 'elimination', 'stimulation', 'concrete_object', 'abstract_singular_term', 'physical_object'}, 1: {'definite_article', 'indicator_word', 'ideal_object', 'physical_thing', 'prelinguistic_quality_space', 'mass_term', 'abstract_term', 'quotational', 'definite_singular_term', 'scattered_object', 'modulus', 'linguistic_form', 'one-word_sentence', 'geometrical_object', 'ordinary_enduring_middle-sized_physical_object', 'indefinite_article', 'operant_behavior'}, 4: {'demonstrative', 'verb', 'plural', 'description', 'pronoun', 'copula', 'noun', 'singular_term', 'adjective', 'general_term'}, 0: {'quantifier', 'conditional', 'name', 'particular', 'construction', 'conjunction', 'quantification', 'class', 'material'}, 2: {'variables', 'object', 'word', 'form', 'logic', 'function'}})\n"
     ]
    }
   ],
   "source": [
    "for word, label in zip(input_words, gold_labels):\n",
    "    gold_dict[label].add(word)\n",
    " \n",
    "cluster_dict = defaultdict(set)\n",
    "for word, cluster_label in zip(input_words, clustering_output):\n",
    "    cluster_dict[cluster_label].add(word)\n",
    "    \n",
    "print(cluster_dict)"
   ]
  },
  {
   "cell_type": "code",
   "execution_count": 9,
   "metadata": {},
   "outputs": [
    {
     "name": "stdout",
     "output_type": "stream",
     "text": [
      "{3: 'metalinguistic', 1: 'ontology'}\n"
     ]
    }
   ],
   "source": [
    "mapping_dict = dict()\n",
    "    \n",
    "for gold_label, gold_words in gold_dict.items():\n",
    "    gold_labels_clusters = []\n",
    "    for cluster_label, cluster_words in cluster_dict.items():\n",
    "        pair = (gold_label, cluster_label)\n",
    "        overlap = gold_words.intersection(cluster_words)\n",
    "        gold_labels_clusters.append((len(overlap), pair))\n",
    "    max_match, best_match = max(gold_labels_clusters)\n",
    "    mapping_dict[best_match[1]] =  best_match[0]\n",
    "            \n",
    "print(mapping_dict)  "
   ]
  },
  {
   "cell_type": "code",
   "execution_count": 10,
   "metadata": {},
   "outputs": [],
   "source": [
    "#gold_labels_mapped = \n",
    "\n",
    "#for gold_label, gold_words in gold_dict.items():\n",
    "    "
   ]
  },
  {
   "cell_type": "code",
   "execution_count": 11,
   "metadata": {},
   "outputs": [
    {
     "name": "stdout",
     "output_type": "stream",
     "text": [
      "language 3\n",
      "language 1\n",
      "language 4\n",
      "language 3\n",
      "language 1\n",
      "language 1\n",
      "language 1\n",
      "language 4\n",
      "language 4\n",
      "language 4\n",
      "language 4\n",
      "language 1\n",
      "language 3\n",
      "language 3\n",
      "language 1\n",
      "language 0\n",
      "language 4\n",
      "language 3\n",
      "language 3\n",
      "language 3\n",
      "language 3\n",
      "language 3\n",
      "language 4\n",
      "language 3\n",
      "language 3\n",
      "language 1\n",
      "language 2\n",
      "language 4\n",
      "ontology 3\n",
      "ontology 0\n",
      "ontology 3\n",
      "ontology 3\n",
      "ontology 1\n",
      "ontology 1\n",
      "ontology 0\n",
      "ontology 2\n",
      "ontology 1\n",
      "ontology 3\n",
      "ontology 0\n",
      "ontology 1\n",
      "ontology 1\n",
      "reality 3\n",
      "reality 1\n",
      "reality 1\n",
      "reality 3\n",
      "reality 3\n",
      "reality 3\n",
      "mind 3\n",
      "mind 1\n",
      "metalinguistic 3\n",
      "metalinguistic 3\n",
      "metalinguistic 3\n",
      "metalinguistic 3\n",
      "metalinguistic 0\n",
      "metalinguistic 0\n",
      "metalinguistic 3\n",
      "metalinguistic 0\n",
      "metalinguistic 3\n",
      "metalinguistic 4\n",
      "metalinguistic 2\n",
      "metalinguistic 2\n",
      "metalinguistic 0\n",
      "metalinguistic 0\n",
      "metalinguistic 1\n",
      "metalinguistic 3\n",
      "metalinguistic 4\n",
      "metalinguistic 3\n",
      "metalinguistic 3\n",
      "metalinguistic 3\n",
      "metalinguistic 1\n",
      "metalinguistic 2\n",
      "metalinguistic 3\n",
      "metalinguistic 2\n",
      "0\n",
      "73\n"
     ]
    }
   ],
   "source": [
    "n_correct = 0\n",
    "total = 0\n",
    "\n",
    "for gold_label, pred_label in zip(gold_labels, clustering_output):\n",
    "    print(gold_label, pred_label)\n",
    "    total += 1\n",
    "    if gold_label == pred_label:\n",
    "        n_correct += 1\n",
    "        \n",
    "print(n_correct)\n",
    "print(total)"
   ]
  },
  {
   "cell_type": "code",
   "execution_count": 12,
   "metadata": {},
   "outputs": [
    {
     "name": "stdout",
     "output_type": "stream",
     "text": [
      "['language', 'language', 'language', 'language', 'language', 'language', 'language', 'language', 'language', 'language', 'language', 'language', 'language', 'language', 'language', 'language', 'language', 'language', 'language', 'language', 'language', 'language', 'language', 'language', 'language', 'language', 'language', 'language', 'ontology', 'ontology', 'ontology', 'ontology', 'ontology', 'ontology', 'ontology', 'ontology', 'ontology', 'ontology', 'ontology', 'ontology', 'ontology', 'reality', 'reality', 'reality', 'reality', 'reality', 'reality', 'mind', 'mind', 'metalinguistic', 'metalinguistic', 'metalinguistic', 'metalinguistic', 'metalinguistic', 'metalinguistic', 'metalinguistic', 'metalinguistic', 'metalinguistic', 'metalinguistic', 'metalinguistic', 'metalinguistic', 'metalinguistic', 'metalinguistic', 'metalinguistic', 'metalinguistic', 'metalinguistic', 'metalinguistic', 'metalinguistic', 'metalinguistic', 'metalinguistic', 'metalinguistic', 'metalinguistic', 'metalinguistic']\n",
      "73\n",
      "\n",
      "[3, 1, 4, 3, 1, 1, 1, 4, 4, 4, 4, 1, 3, 3, 1, 0, 4, 3, 3, 3, 3, 3, 4, 3, 3, 1, 2, 4, 3, 0, 3, 3, 1, 1, 0, 2, 1, 3, 0, 1, 1, 3, 1, 1, 3, 3, 3, 3, 1, 3, 3, 3, 3, 0, 0, 3, 0, 3, 4, 2, 2, 0, 0, 1, 3, 4, 3, 3, 3, 1, 2, 3, 2]\n",
      "73\n"
     ]
    }
   ],
   "source": [
    "count_gold = 0\n",
    "count_cluster = 0\n",
    "\n",
    "for gold_label in gold_labels:\n",
    "    count_gold += 1\n",
    "    \n",
    "for pred_label in clustering_output:\n",
    "    count_cluster += 1\n",
    "    \n",
    "print(gold_labels)\n",
    "print(count_gold)\n",
    "print()\n",
    "print(clustering_output)\n",
    "print(count_cluster)"
   ]
  },
  {
   "cell_type": "code",
   "execution_count": 13,
   "metadata": {},
   "outputs": [
    {
     "name": "stdout",
     "output_type": "stream",
     "text": [
      "0.008805161125445965\n"
     ]
    }
   ],
   "source": [
    "from sklearn.metrics.cluster import adjusted_rand_score \n",
    "\n",
    "score = adjusted_rand_score(gold_labels, clustering_output)\n",
    "print(score)"
   ]
  },
  {
   "cell_type": "markdown",
   "metadata": {},
   "source": [
    "# Centroids "
   ]
  },
  {
   "cell_type": "code",
   "execution_count": 14,
   "metadata": {},
   "outputs": [
    {
     "ename": "TypeError",
     "evalue": "unsupported operand type(s) for +: 'NoneType' and 'NoneType'",
     "output_type": "error",
     "traceback": [
      "\u001b[0;31m---------------------------------------------------------------------------\u001b[0m",
      "\u001b[0;31mTypeError\u001b[0m                                 Traceback (most recent call last)",
      "\u001b[0;32m<ipython-input-14-694b6e81b4a2>\u001b[0m in \u001b[0;36m<module>\u001b[0;34m\u001b[0m\n\u001b[1;32m     29\u001b[0m \u001b[0;31m# get mean using axis = 0\u001b[0m\u001b[0;34m\u001b[0m\u001b[0;34m\u001b[0m\u001b[0;34m\u001b[0m\u001b[0m\n\u001b[1;32m     30\u001b[0m \u001b[0;34m\u001b[0m\u001b[0m\n\u001b[0;32m---> 31\u001b[0;31m \u001b[0mcentroid\u001b[0m \u001b[0;34m=\u001b[0m \u001b[0mnp\u001b[0m\u001b[0;34m.\u001b[0m\u001b[0mmean\u001b[0m\u001b[0;34m(\u001b[0m\u001b[0ma_matrix\u001b[0m\u001b[0;34m,\u001b[0m \u001b[0maxis\u001b[0m\u001b[0;34m=\u001b[0m\u001b[0;36m0\u001b[0m\u001b[0;34m)\u001b[0m\u001b[0;34m\u001b[0m\u001b[0;34m\u001b[0m\u001b[0m\n\u001b[0m\u001b[1;32m     32\u001b[0m \u001b[0;31m#print(centroid)\u001b[0m\u001b[0;34m\u001b[0m\u001b[0;34m\u001b[0m\u001b[0;34m\u001b[0m\u001b[0m\n\u001b[1;32m     33\u001b[0m \u001b[0;34m\u001b[0m\u001b[0m\n",
      "\u001b[0;32m<__array_function__ internals>\u001b[0m in \u001b[0;36mmean\u001b[0;34m(*args, **kwargs)\u001b[0m\n",
      "\u001b[0;32m/opt/anaconda3/lib/python3.8/site-packages/numpy/core/fromnumeric.py\u001b[0m in \u001b[0;36mmean\u001b[0;34m(a, axis, dtype, out, keepdims)\u001b[0m\n\u001b[1;32m   3370\u001b[0m             \u001b[0;32mreturn\u001b[0m \u001b[0mmean\u001b[0m\u001b[0;34m(\u001b[0m\u001b[0maxis\u001b[0m\u001b[0;34m=\u001b[0m\u001b[0maxis\u001b[0m\u001b[0;34m,\u001b[0m \u001b[0mdtype\u001b[0m\u001b[0;34m=\u001b[0m\u001b[0mdtype\u001b[0m\u001b[0;34m,\u001b[0m \u001b[0mout\u001b[0m\u001b[0;34m=\u001b[0m\u001b[0mout\u001b[0m\u001b[0;34m,\u001b[0m \u001b[0;34m**\u001b[0m\u001b[0mkwargs\u001b[0m\u001b[0;34m)\u001b[0m\u001b[0;34m\u001b[0m\u001b[0;34m\u001b[0m\u001b[0m\n\u001b[1;32m   3371\u001b[0m \u001b[0;34m\u001b[0m\u001b[0m\n\u001b[0;32m-> 3372\u001b[0;31m     return _methods._mean(a, axis=axis, dtype=dtype,\n\u001b[0m\u001b[1;32m   3373\u001b[0m                           out=out, **kwargs)\n\u001b[1;32m   3374\u001b[0m \u001b[0;34m\u001b[0m\u001b[0m\n",
      "\u001b[0;32m/opt/anaconda3/lib/python3.8/site-packages/numpy/core/_methods.py\u001b[0m in \u001b[0;36m_mean\u001b[0;34m(a, axis, dtype, out, keepdims)\u001b[0m\n\u001b[1;32m    158\u001b[0m             \u001b[0mis_float16_result\u001b[0m \u001b[0;34m=\u001b[0m \u001b[0;32mTrue\u001b[0m\u001b[0;34m\u001b[0m\u001b[0;34m\u001b[0m\u001b[0m\n\u001b[1;32m    159\u001b[0m \u001b[0;34m\u001b[0m\u001b[0m\n\u001b[0;32m--> 160\u001b[0;31m     \u001b[0mret\u001b[0m \u001b[0;34m=\u001b[0m \u001b[0mumr_sum\u001b[0m\u001b[0;34m(\u001b[0m\u001b[0marr\u001b[0m\u001b[0;34m,\u001b[0m \u001b[0maxis\u001b[0m\u001b[0;34m,\u001b[0m \u001b[0mdtype\u001b[0m\u001b[0;34m,\u001b[0m \u001b[0mout\u001b[0m\u001b[0;34m,\u001b[0m \u001b[0mkeepdims\u001b[0m\u001b[0;34m)\u001b[0m\u001b[0;34m\u001b[0m\u001b[0;34m\u001b[0m\u001b[0m\n\u001b[0m\u001b[1;32m    161\u001b[0m     \u001b[0;32mif\u001b[0m \u001b[0misinstance\u001b[0m\u001b[0;34m(\u001b[0m\u001b[0mret\u001b[0m\u001b[0;34m,\u001b[0m \u001b[0mmu\u001b[0m\u001b[0;34m.\u001b[0m\u001b[0mndarray\u001b[0m\u001b[0;34m)\u001b[0m\u001b[0;34m:\u001b[0m\u001b[0;34m\u001b[0m\u001b[0;34m\u001b[0m\u001b[0m\n\u001b[1;32m    162\u001b[0m         ret = um.true_divide(\n",
      "\u001b[0;31mTypeError\u001b[0m: unsupported operand type(s) for +: 'NoneType' and 'NoneType'"
     ]
    }
   ],
   "source": [
    "# Normalize each vector\n",
    "import math\n",
    "\n",
    "def normalize_vector(vec):\n",
    "    mag = math.sqrt(sum([pow(value, 2) for value in vec]))\n",
    "\n",
    "    unit_vec = []\n",
    "\n",
    "    for value in vec:\n",
    "        unit_vec.append(value/mag)\n",
    "    unit_vec = np.array(unit_vec)\n",
    "    \n",
    "vec_list = []\n",
    "\n",
    "#make this into a function, then loop through the different clusters\n",
    "for word in termlist: #do this for word in cluster\n",
    "    if word not in embeddings.vocab:\n",
    "        continue\n",
    "    vec = embeddings[word]\n",
    "    norm_vec = normalize_vector(vec)\n",
    "    vec_list.append(norm_vec)\n",
    "\n",
    "\n",
    "    \n",
    "\n",
    "# Create list of all normalized vectors, then turn into np.array    \n",
    "    \n",
    "a_matrix = np.array(vec_list)\n",
    "\n",
    "# get mean using axis = 0\n",
    "\n",
    "centroid = np.mean(a_matrix, axis=0)\n",
    "#print(centroid)\n",
    "\n",
    "# get cosines between centroid and words\n"
   ]
  },
  {
   "cell_type": "code",
   "execution_count": null,
   "metadata": {},
   "outputs": [],
   "source": []
  }
 ],
 "metadata": {
  "kernelspec": {
   "display_name": "Python 3",
   "language": "python",
   "name": "python3"
  },
  "language_info": {
   "codemirror_mode": {
    "name": "ipython",
    "version": 3
   },
   "file_extension": ".py",
   "mimetype": "text/x-python",
   "name": "python",
   "nbconvert_exporter": "python",
   "pygments_lexer": "ipython3",
   "version": "3.8.3"
  }
 },
 "nbformat": 4,
 "nbformat_minor": 4
}
