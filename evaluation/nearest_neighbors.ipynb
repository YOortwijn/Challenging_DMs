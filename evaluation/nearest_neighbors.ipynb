{
 "cells": [
  {
   "cell_type": "code",
   "execution_count": 6,
   "metadata": {},
   "outputs": [],
   "source": [
    "from sklearn.neighbors import KNeighborsClassifier\n",
    "from sklearn.model_selection import LeaveOneOut\n",
    "from sklearn.metrics import precision_recall_fscore_support\n",
    "from gensim.models import KeyedVectors\n",
    "import numpy as np\n",
    "import os\n",
    "import sys\n",
    "sys.path.insert(0, '../src/') \n",
    "import evaluate"
   ]
  },
  {
   "cell_type": "code",
   "execution_count": 7,
   "metadata": {},
   "outputs": [],
   "source": [
    "clusters_path = \"../data/terms.csv\"\n",
    "clusters, concepts = evaluate.load_clusters(clusters_path)\n",
    "\n",
    "\n",
    "cluster_A = ['abstract_singular_term', 'abstract_term', 'adjective', 'article', 'definite_article', 'indefinite_article', 'mass_term', 'demonstrative', 'description', 'general_term', 'singular_term', 'definite_singular_term', 'indefinite_singular_term', 'eternal_sentence', 'indicator_word', 'name', 'noun', 'relative_term', 'substantive', 'observation_sentence', 'occasion_sentence', 'open_sentence', 'pronoun', 'relative_clause', 'relative_pronoun', 'one-word_sentence', 'word', 'verb']\n",
    "cluster_B = ['abstract_object', 'class', 'concrete_object', 'physical_object', 'ideal_object', 'geometrical_object', 'material', 'object', 'particle', 'particular', 'physical_thing', 'scattered_object']\n",
    "cluster_C = ['context', 'modulus', 'operant_behavior', 'phoneme', 'stimulus', 'stimulation']\n",
    "cluster_D = ['conceptual_scheme', 'prelinguistic_quality_space']\n",
    "cluster_E = ['canonical_notation', 'paraphrase', 'concatenation', 'concretion', 'conditional', 'conjunction', 'connective', 'construction', 'contradiction', 'copula', 'form', 'function', 'quantification', 'quantifier', 'quotational', 'predication', 'plural', 'regimentation', 'elimination', 'explication', 'linguistic_form', 'logic', 'syntax', 'variables']"
   ]
  },
  {
   "cell_type": "code",
   "execution_count": 8,
   "metadata": {},
   "outputs": [],
   "source": [
    "from collections import defaultdict\n",
    "\n",
    "input_words = []\n",
    "gold_labels = []\n",
    "\n",
    "def map_words(words, label, word_label_dict):\n",
    "    for word in words:\n",
    "        word_label_dict[word] = label\n",
    "\n",
    "word_label_dict = dict()\n",
    "map_words(cluster_A, 'language', word_label_dict)\n",
    "map_words(cluster_B, 'ontology', word_label_dict)\n",
    "map_words(cluster_C, 'reality', word_label_dict)\n",
    "map_words(cluster_D, 'mind', word_label_dict)\n",
    "map_words(cluster_E, 'metalinguistic', word_label_dict)\n",
    "\n",
    "for label, words in word_label_dict.items(): \n",
    "    input_words.append(label)\n",
    "    gold_labels.append(words)\n",
    "    \n",
    "\n",
    "gold_dict = defaultdict(set)\n",
    "\n",
    "for word, label in zip(input_words, gold_labels):\n",
    "    gold_dict[label].add(word)\n",
    "\n",
    "#input_words = ['dog', 'cat', 'orange', 'lemon', 'table', 'cup', 'frog']\n",
    "#gold_labels = ['animal', 'animal', 'fruit', 'fruit', 'furniture', 'furniture', 'animal']"
   ]
  },
  {
   "cell_type": "code",
   "execution_count": 38,
   "metadata": {},
   "outputs": [
    {
     "name": "stdout",
     "output_type": "stream",
     "text": [
      "0.4523809523809524 0.43847238288027757 0.4426022659511032\n",
      "Precision: 0.4523809523809524\n",
      "Recall 0.43847238288027757\n",
      "F1 macro 0.4426022659511032\n"
     ]
    },
    {
     "name": "stderr",
     "output_type": "stream",
     "text": [
      "/opt/anaconda3/lib/python3.8/site-packages/smart_open/smart_open_lib.py:252: UserWarning: This function is deprecated, use smart_open.open instead. See the migration notes for details: https://github.com/RaRe-Technologies/smart_open/blob/master/README.rst#migrating-to-the-new-open-function\n",
      "  warnings.warn(\n"
     ]
    }
   ],
   "source": [
    "# model\n",
    "# change model path to your model\n",
    "#model_path = '~/Data/dsm/word2vec/movies.bin'\n",
    "#embeddings = KeyedVectors.load_word2vec_format(model_path, binary=True)\n",
    "\n",
    "embeddings_path = \"../data/hw_svd_w5_s0.0001_thr0_n15.txt\"\n",
    "embeddings = evaluate.load_embeddings(embeddings_path)\n",
    "\n",
    "\n",
    "def get_embeddings(words, labels, embeddings):\n",
    "    words_in_vocab = []\n",
    "    labels_in_vocab = []\n",
    "    vecs = []\n",
    "    for w, l in zip(words, labels):\n",
    "        if w in embeddings.vocab:\n",
    "            words_in_vocab.append(w)\n",
    "            labels_in_vocab.append(l)\n",
    "            vecs.append(embeddings[w])\n",
    "    return np.matrix(vecs), words_in_vocab, labels_in_vocab\n",
    "\n",
    "\n",
    "def run_nearest_neighbors(input_vecs, input_labels, n_neighbors):\n",
    "    X = input_vecs\n",
    "    y = input_labels\n",
    "    loo = LeaveOneOut()\n",
    "\n",
    "    neigh = KNeighborsClassifier(n_neighbors=n_neighbors)\n",
    "\n",
    "    predictions = []\n",
    "\n",
    "    for train_index, test_index in loo.split(X):\n",
    "        #print(\"TRAIN:\", train_index, \"TEST:\", test_index)\n",
    "        X_train, X_test = X[train_index], X[test_index]\n",
    "        y_train = [y[i] for i in train_index]\n",
    "        y_test = y[test_index[0]]\n",
    "        neigh.fit(X_train, y_train)\n",
    "        pred = neigh.predict(X_test)\n",
    "        predictions.append(pred[0])\n",
    "\n",
    "    p, r, f1, s = precision_recall_fscore_support(predictions, y, average='macro')\n",
    "    print(p, r, f1)\n",
    "    print('Precision:', p)\n",
    "    print('Recall', r)\n",
    "    print('F1 macro', f1)\n",
    "\n",
    "input_vecs, input_words_vocab, input_labels = get_embeddings(input_words, gold_labels, embeddings)\n",
    "# we can modify the number of nearest neighbors\n",
    "n_neighbors = 1\n",
    "run_nearest_neighbors(input_vecs, input_labels, n_neighbors)"
   ]
  },
  {
   "cell_type": "code",
   "execution_count": 78,
   "metadata": {},
   "outputs": [],
   "source": []
  },
  {
   "cell_type": "code",
   "execution_count": null,
   "metadata": {},
   "outputs": [],
   "source": []
  },
  {
   "cell_type": "code",
   "execution_count": null,
   "metadata": {},
   "outputs": [],
   "source": []
  }
 ],
 "metadata": {
  "kernelspec": {
   "display_name": "Python 3",
   "language": "python",
   "name": "python3"
  },
  "language_info": {
   "codemirror_mode": {
    "name": "ipython",
    "version": 3
   },
   "file_extension": ".py",
   "mimetype": "text/x-python",
   "name": "python",
   "nbconvert_exporter": "python",
   "pygments_lexer": "ipython3",
   "version": "3.8.3"
  }
 },
 "nbformat": 4,
 "nbformat_minor": 4
}
