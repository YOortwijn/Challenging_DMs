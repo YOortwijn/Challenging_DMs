{
 "cells": [
  {
   "cell_type": "code",
   "execution_count": 3,
   "metadata": {},
   "outputs": [
    {
     "name": "stdout",
     "output_type": "stream",
     "text": [
      "{0: 'animal', 2: 'fruit', 1: 'furniture'}\n"
     ]
    },
    {
     "data": {
      "text/plain": [
       "['animal', 'animal', 'furniture', 'fruit', 'furniture', 'animal']"
      ]
     },
     "execution_count": 3,
     "metadata": {},
     "output_type": "execute_result"
    }
   ],
   "source": [
    "from collections import defaultdict\n",
    "# Clustering output\n",
    "\n",
    "input_words = ['dog', 'cat', 'orange', 'lemon', 'table', 'cup']\n",
    "\n",
    "gold_labels = ['animal', 'animal', 'fruit', 'fruit', 'furniture', 'furniture']\n",
    "# run clustering\n",
    "\n",
    "clustering_output = [0, 0, 1, 2, 1, 0]\n",
    "\n",
    "\n",
    "gold_dict = defaultdict(set)\n",
    "\n",
    "for word, label in zip(input_words, gold_labels):\n",
    "    gold_dict[label].add(word)\n",
    " \n",
    "cluster_dict = defaultdict(set)\n",
    "for word, cluster_label in zip(input_words, clustering_output):\n",
    "    cluster_dict[cluster_label].add(word)\n",
    "    \n",
    "    \n",
    "mapping_dict = dict()\n",
    "    \n",
    "for gold_label, gold_words in gold_dict.items():\n",
    "    gold_labels_clusters = []\n",
    "    for cluster_label, cluster_words in cluster_dict.items():\n",
    "        pair = (gold_label, cluster_label)\n",
    "        overlap = gold_words.intersection(cluster_words)\n",
    "        gold_labels_clusters.append((len(overlap), pair))\n",
    "    max_match, best_match = max(gold_labels_clusters)\n",
    "    mapping_dict[best_match[1]] =  best_match[0]\n",
    "            \n",
    "print(mapping_dict)           \n",
    "    \n",
    "            \n",
    "predicted_labels = []\n",
    "for l in clustering_output:\n",
    "    predicted_label = mapping_dict[l]\n",
    "    predicted_labels.append(predicted_label)\n",
    "\n",
    "predicted_labels  \n"
   ]
  },
  {
   "cell_type": "code",
   "execution_count": 4,
   "metadata": {},
   "outputs": [
    {
     "name": "stdout",
     "output_type": "stream",
     "text": [
      "animal animal\n",
      "animal animal\n",
      "fruit furniture\n",
      "fruit fruit\n",
      "furniture furniture\n",
      "furniture animal\n"
     ]
    }
   ],
   "source": [
    "n_correct = 0\n",
    "\n",
    "for gold_label, predicted_label in zip(gold_labels, predicted_labels):\n",
    "    print(gold_label, predicted_label)"
   ]
  },
  {
   "cell_type": "code",
   "execution_count": null,
   "metadata": {},
   "outputs": [],
   "source": []
  },
  {
   "cell_type": "code",
   "execution_count": null,
   "metadata": {},
   "outputs": [],
   "source": []
  }
 ],
 "metadata": {
  "kernelspec": {
   "display_name": "Python 3",
   "language": "python",
   "name": "python3"
  },
  "language_info": {
   "codemirror_mode": {
    "name": "ipython",
    "version": 3
   },
   "file_extension": ".py",
   "mimetype": "text/x-python",
   "name": "python",
   "nbconvert_exporter": "python",
   "pygments_lexer": "ipython3",
   "version": "3.8.3"
  }
 },
 "nbformat": 4,
 "nbformat_minor": 4
}
